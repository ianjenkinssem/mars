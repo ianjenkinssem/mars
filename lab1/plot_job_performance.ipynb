{
 "cells": [
  {
   "cell_type": "code",
   "execution_count": 3,
   "metadata": {
    "collapsed": true
   },
   "outputs": [],
   "source": [
    "import pandas as pd\n",
    "import seaborn as sns"
   ]
  },
  {
   "cell_type": "markdown",
   "metadata": {
    "pycharm": {
     "name": "#%% md\n"
    }
   },
   "source": [
    "Procesing time collected from Bayes"
   ]
  },
  {
   "cell_type": "code",
   "execution_count": 12,
   "metadata": {
    "pycharm": {
     "name": "#%%\n"
    }
   },
   "outputs": [
    {
     "name": "stdout",
     "output_type": "stream",
     "text": [
      "   Processers    Time\n",
      "0           1  2.9500\n",
      "1           2  1.4615\n",
      "2           4  0.7630\n",
      "3           8  0.4340\n",
      "4          16  0.3490\n",
      "5          32  0.2750\n"
     ]
    }
   ],
   "source": [
    "df = pd.read_excel('job-times.xlsx')\n",
    "print(df)"
   ]
  },
  {
   "cell_type": "code",
   "execution_count": 32,
   "metadata": {
    "pycharm": {
     "name": "#%%\n"
    }
   },
   "outputs": [],
   "source": [
    "def speedup(n):\n",
    "    \"\"\"\n",
    "    Calculates speed up using Amdahl's law.\n",
    "    :param n: number of processors\n",
    "    :return: Theoretical speedup proprotional to the size of parallelizable code.\n",
    "    \"\"\"\n",
    "    p = 1 # parallel percentage\n",
    "    s = (1-p) # serial percentage\n",
    "    return 1/(s + (p/n))\n",
    "\n"
   ]
  },
  {
   "cell_type": "markdown",
   "metadata": {
    "pycharm": {
     "name": "#%%\n"
    }
   },
   "source": [
    "Theorictal speedup"
   ]
  },
  {
   "cell_type": "code",
   "execution_count": 51,
   "metadata": {},
   "outputs": [
    {
     "name": "stdout",
     "output_type": "stream",
     "text": [
      "Theorictal Speed-up \n",
      " [1.0, 2.0, 4.0, 8.0, 16.0, 32.0]\n"
     ]
    }
   ],
   "source": [
    "t_speed_up = list(map(speedup, [1, 2, 4, 8, 16, 32]))\n",
    "nl = '\\n'\n",
    "print(f'Theorictal Speed-up {nl} {t_speed_up}' )"
   ]
  },
  {
   "cell_type": "code",
   "execution_count": 46,
   "metadata": {},
   "outputs": [
    {
     "name": "stdout",
     "output_type": "stream",
     "text": [
      "Actual speed up \n",
      "0     1.000000\n",
      "1     2.018474\n",
      "2     3.866317\n",
      "3     6.797235\n",
      "4     8.452722\n",
      "5    10.727273\n",
      "Name: Time, dtype: float64\n"
     ]
    }
   ],
   "source": [
    "performance = df['Time']\n",
    "speed_up_real = lambda per: per[0]/per # ratio \n",
    "actual_speed_up = speed_up_real(performance)\n",
    "nl = '\\n'\n",
    "print(f'Actual speed up {nl}{actual_speed_up}')"
   ]
  },
  {
   "cell_type": "code",
   "execution_count": 52,
   "metadata": {
    "pycharm": {
     "name": "#%%\n"
    }
   },
   "outputs": [
    {
     "data": {
      "text/plain": [
       "<AxesSubplot:xlabel='Processers', ylabel='Time'>"
      ]
     },
     "execution_count": 52,
     "metadata": {},
     "output_type": "execute_result"
    },
    {
     "data": {
      "image/png": "[encoded data removed]",
      "text/plain": [
       "<Figure size 432x288 with 1 Axes>"
      ]
     },
     "metadata": {
      "needs_background": "light"
     },
     "output_type": "display_data"
    }
   ],
   "source": [
    "sns.lineplot(data=df, x=\"Processers\", y=t_speed_up)\n",
    "sns.lineplot(data=df, x=\"Processers\", y=r_speed_up)\n",
    "# if 50% serial code is 50% then speed up is never more than 2."
   ]
  }
 ],
 "metadata": {
  "kernelspec": {
   "display_name": "Python 3",
   "language": "python",
   "name": "python3"
  },
  "language_info": {
   "codemirror_mode": {
    "name": "ipython",
    "version": 3
   },
   "file_extension": ".py",
   "mimetype": "text/x-python",
   "name": "python",
   "nbconvert_exporter": "python",
   "pygments_lexer": "ipython3",
   "version": "3.8.5"
  }
 },
 "nbformat": 4,
 "nbformat_minor": 1
}
